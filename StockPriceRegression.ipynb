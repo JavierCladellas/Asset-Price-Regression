{
  "nbformat": 4,
  "nbformat_minor": 0,
  "metadata": {
    "colab": {
      "name": "StockPriceRegression.ipynb",
      "provenance": [],
      "collapsed_sections": []
    },
    "kernelspec": {
      "display_name": "Python 3",
      "name": "python3"
    },
    "language_info": {
      "name": "python"
    }
  },
  "cells": [
    {
      "cell_type": "markdown",
      "metadata": {
        "id": "WpYFo8Dedg_X"
      },
      "source": [
        "<h1>LSTM for stock price using last 60 days</h1>"
      ]
    },
    {
      "cell_type": "markdown",
      "metadata": {
        "id": "sKVJU2mcdycs"
      },
      "source": [
        "#Libraries"
      ]
    },
    {
      "cell_type": "code",
      "metadata": {
        "id": "Pg1_YoXOdYoW"
      },
      "source": [
        "import math\n",
        "\n",
        "from datetime import date, timedelta,datetime\n",
        "import time\n",
        "\n",
        "import numpy as np\n",
        "import pandas as pd\n",
        "\n",
        "import pandas_datareader as web\n",
        "\n",
        "from sklearn.preprocessing import MinMaxScaler\n",
        "from sklearn.model_selection import train_test_split\n",
        "\n",
        "import matplotlib.pyplot as plt\n",
        "plt.style.use('fivethirtyeight')\n",
        "\n",
        "from keras.models import Sequential\n",
        "from keras.layers import Dense, LSTM\n",
        "\n",
        "from IPython.display import clear_output"
      ],
      "execution_count": null,
      "outputs": []
    },
    {
      "cell_type": "markdown",
      "metadata": {
        "id": "uA2jSpJVLh7D"
      },
      "source": [
        "Scaler"
      ]
    },
    {
      "cell_type": "code",
      "metadata": {
        "id": "X0PKXZWPf2Nw"
      },
      "source": [
        "scaler = MinMaxScaler(feature_range=(0,1))"
      ],
      "execution_count": null,
      "outputs": []
    },
    {
      "cell_type": "markdown",
      "metadata": {
        "id": "3sZ2xGA7Lm8V"
      },
      "source": [
        "#Model"
      ]
    },
    {
      "cell_type": "markdown",
      "metadata": {
        "id": "k8Ua3WJbLoIT"
      },
      "source": [
        "Function that returns a fitted LSTM"
      ]
    },
    {
      "cell_type": "code",
      "metadata": {
        "id": "XFNv4Zltpspi"
      },
      "source": [
        "def trainModel(train_x,train_y):\n",
        "    #LSTM \n",
        "    model = Sequential()\n",
        "    model.add(LSTM(50,return_sequences=True, input_shape = (x_train.shape[1],4)))\n",
        "    model.add(LSTM(50,return_sequences=False))\n",
        "    model.add(Dense(25))\n",
        "    model.add(Dense(1))\n",
        "\n",
        "    model.compile(optimizer='adam',loss='mean_squared_error')\n",
        "\n",
        "    model.fit(x_train,y_train,batch_size=1,epochs=1)\n",
        "\n",
        "    return model\n"
      ],
      "execution_count": null,
      "outputs": []
    },
    {
      "cell_type": "markdown",
      "metadata": {
        "id": "1lUIKj5CL8mh"
      },
      "source": [
        "Function that takes the price of the last 60 days of an asset, and a trained model to return the predicted the price of the next day "
      ]
    },
    {
      "cell_type": "code",
      "metadata": {
        "id": "-s4QAEUEtEWo"
      },
      "source": [
        "def predictNextDay(dataframe,model):\n",
        "\n",
        "    dataframe = dataframe.filter(['Close','High','Low','Open'])\n",
        "    last_60_days = dataframe[-60:].values\n",
        "    last_60_days_scaled = scaler.transform(last_60_days)\n",
        "    x = []\n",
        "    x.append(last_60_days_scaled)\n",
        "    x = np.array(x)\n",
        "    x=np.reshape(x,(x.shape[0],x.shape[1],4))\n",
        "    pred_price = model.predict(x)\n",
        "\n",
        "    trainPredict_dataset_like = np.zeros(shape=(len(pred_price), 4) )\n",
        "    trainPredict_dataset_like[:,0] = pred_price[:,0]\n",
        "    pred_price = scaler.inverse_transform(trainPredict_dataset_like)[:,0]\n",
        "\n",
        "    return pred_price\n",
        "\n"
      ],
      "execution_count": null,
      "outputs": []
    },
    {
      "cell_type": "markdown",
      "metadata": {
        "id": "pbhC-zr9MU-J"
      },
      "source": [
        "#Backtesting"
      ]
    },
    {
      "cell_type": "markdown",
      "metadata": {
        "id": "yFTcmklCMW5h"
      },
      "source": [
        "Ticker and dates"
      ]
    },
    {
      "cell_type": "code",
      "metadata": {
        "colab": {
          "base_uri": "https://localhost:8080/"
        },
        "id": "z6eBStc_uwkD",
        "outputId": "5449edcf-7c0c-421e-edc0-1c15be271249"
      },
      "source": [
        "ticker = str(input(\"Ticker for Yahoo Finance: \"))\n",
        "date_of_start = str(input(\"Start date (aaaa-mm-dd) \"))\n",
        "date_of_end = str(input(\"End date (aaaa-mm-dd): \"))"
      ],
      "execution_count": null,
      "outputs": [
        {
          "output_type": "stream",
          "text": [
            "Ticker for Yahoo Finance: ETH-USD\n",
            "Start date (aaaa-mm-dd) 2020-01-01\n",
            "End date (aaaa-mm-dd): 2021-05-12\n"
          ],
          "name": "stdout"
        }
      ]
    },
    {
      "cell_type": "markdown",
      "metadata": {
        "id": "jAobyAdOMZZD"
      },
      "source": [
        "The starting training size of the first date is 60 rows. The model is trained using as labels the prices of the asset, starting 60 days before day 0.  \n",
        "<br>The features used are: Close price, open price, day high and day low of the 60 days previous to the target. \n",
        "<br><br>\n",
        "For each day (starting 120 days after the start date), this cell:\n",
        "  - Trains the model using all the data previous to the current date\n",
        "  - Predicts the price of the next day\n",
        "  - Appends the actual price and the predicted price to a DataFrame (valid)"
      ]
    },
    {
      "cell_type": "code",
      "metadata": {
        "colab": {
          "base_uri": "https://localhost:8080/",
          "height": 985
        },
        "id": "5O1O-ag7eGd9",
        "outputId": "e3c686cb-0f03-47fe-ab46-a4f4417a7661"
      },
      "source": [
        "valid = pd.DataFrame(columns=[\"Date\",\"Real\",\"Pred\"])\n",
        "\n",
        "current_date = date(int(date_of_start.split('-')[0]),int(date_of_start.split('-')[1]),int(date_of_start.split('-')[2])) + timedelta(days=120)\n",
        "\n",
        "while current_date < date(int(date_of_end.split('-')[0]),int(date_of_end.split('-')[1]),int(date_of_end.split('-')[2])):\n",
        "  \n",
        "  #IMPORTING THE DATA FROM YAHOO FINANCE\n",
        "  df = web.DataReader(ticker,data_source='yahoo',start=date_of_start,end=current_date)\n",
        "  \n",
        "  #FILTERING (AVOID TRAINING WITH THE TEST VALUES)\n",
        "  data = df[0:-1].filter(['Close','High','Low','Open'])\n",
        "  dataset = data.values\n",
        "\n",
        "  training_data_len = math.ceil(len(dataset))\n",
        "  train_data = dataset[0:training_data_len, :]\n",
        "  \n",
        "  #SCALING\n",
        "  train_data = scaler.fit_transform(train_data)\n",
        "\n",
        "  #CONSTRUCTING THE TRAINING DATA \n",
        "  x_train = []\n",
        "  y_train = []\n",
        "\n",
        "  for i in range(60, len(train_data)):\n",
        "    x_train.append(train_data[i-60:i,:])\n",
        "    y_train.append(train_data[i,0])\n",
        "\n",
        "  x_train = np.array(x_train)\n",
        "  y_train = np.array(y_train)\n",
        "\n",
        "  x_train = np.reshape(x_train,(x_train.shape[0],x_train.shape[1],4))\n",
        "  \n",
        "  #TRAINING THE MODEL AND PREDICTING NEXT DAY\n",
        "  model = trainModel(x_train,y_train)\n",
        "  pred = predictNextDay(df,model)\n",
        "\n",
        "\n",
        "  real_price = df.Close.values[-1]\n",
        "\n",
        "\n",
        "  #APPENDING TO VALID DATAFRAME\n",
        "  valid.loc[len(valid)] = ([df.index.values[-1],real_price,pred[0]])\n",
        "\n",
        "\n",
        "  #PLOTTING\n",
        "  clear_output()\n",
        "\n",
        "  plt.figure(figsize=(16,8))\n",
        "  plt.plot(df.index.values[:-1], df.Close.values[:-1])\n",
        "  plt.plot([df.index.values[-2],df.index.values[-1]], [df.Close.values[-2],real_price], c='g')\n",
        "  plt.plot([df.index.values[-2],df.index.values[-1]], [df.Close.values[-2],pred[0]], c='r')\n",
        "  plt.xticks(rotation=45)\n",
        "  plt.legend(['Historic','Valid','Predictions'],loc='lower right')\n",
        "  plt.show()\n",
        "\n",
        "  #NEXT DAY\n",
        "  current_date += timedelta(days=1)\n",
        "\n",
        "valid = valid.set_index(\"Date\")\n",
        "valid"
      ],
      "execution_count": null,
      "outputs": [
        {
          "output_type": "display_data",
          "data": {
            "image/png": "[encoded data removed]",
            "text/plain": [
              "<Figure size 1152x576 with 1 Axes>"
            ]
          },
          "metadata": {
            "tags": []
          }
        },
        {
          "output_type": "execute_result",
          "data": {
            "text/html": [
              "<div>\n",
              "<style scoped>\n",
              "    .dataframe tbody tr th:only-of-type {\n",
              "        vertical-align: middle;\n",
              "    }\n",
              "\n",
              "    .dataframe tbody tr th {\n",
              "        vertical-align: top;\n",
              "    }\n",
              "\n",
              "    .dataframe thead th {\n",
              "        text-align: right;\n",
              "    }\n",
              "</style>\n",
              "<table border=\"1\" class=\"dataframe\">\n",
              "  <thead>\n",
              "    <tr style=\"text-align: right;\">\n",
              "      <th></th>\n",
              "      <th>Real</th>\n",
              "      <th>Pred</th>\n",
              "    </tr>\n",
              "    <tr>\n",
              "      <th>Date</th>\n",
              "      <th></th>\n",
              "      <th></th>\n",
              "    </tr>\n",
              "  </thead>\n",
              "  <tbody>\n",
              "    <tr>\n",
              "      <th>2020-04-30</th>\n",
              "      <td>214.219101</td>\n",
              "      <td>164.363462</td>\n",
              "    </tr>\n",
              "    <tr>\n",
              "      <th>2020-05-01</th>\n",
              "      <td>215.325378</td>\n",
              "      <td>178.297548</td>\n",
              "    </tr>\n",
              "    <tr>\n",
              "      <th>2020-05-02</th>\n",
              "      <td>210.933151</td>\n",
              "      <td>204.721948</td>\n",
              "    </tr>\n",
              "    <tr>\n",
              "      <th>2020-05-03</th>\n",
              "      <td>208.174011</td>\n",
              "      <td>174.834564</td>\n",
              "    </tr>\n",
              "    <tr>\n",
              "      <th>2020-05-04</th>\n",
              "      <td>206.774399</td>\n",
              "      <td>198.852912</td>\n",
              "    </tr>\n",
              "    <tr>\n",
              "      <th>...</th>\n",
              "      <td>...</td>\n",
              "      <td>...</td>\n",
              "    </tr>\n",
              "    <tr>\n",
              "      <th>2021-05-07</th>\n",
              "      <td>3902.647705</td>\n",
              "      <td>2932.662084</td>\n",
              "    </tr>\n",
              "    <tr>\n",
              "      <th>2021-05-08</th>\n",
              "      <td>3928.844727</td>\n",
              "      <td>3482.491173</td>\n",
              "    </tr>\n",
              "    <tr>\n",
              "      <th>2021-05-09</th>\n",
              "      <td>3952.293945</td>\n",
              "      <td>3775.032015</td>\n",
              "    </tr>\n",
              "    <tr>\n",
              "      <th>2021-05-10</th>\n",
              "      <td>4168.701172</td>\n",
              "      <td>3497.972379</td>\n",
              "    </tr>\n",
              "    <tr>\n",
              "      <th>2021-05-11</th>\n",
              "      <td>3785.848633</td>\n",
              "      <td>4030.669415</td>\n",
              "    </tr>\n",
              "  </tbody>\n",
              "</table>\n",
              "<p>377 rows × 2 columns</p>\n",
              "</div>"
            ],
            "text/plain": [
              "                   Real         Pred\n",
              "Date                                \n",
              "2020-04-30   214.219101   164.363462\n",
              "2020-05-01   215.325378   178.297548\n",
              "2020-05-02   210.933151   204.721948\n",
              "2020-05-03   208.174011   174.834564\n",
              "2020-05-04   206.774399   198.852912\n",
              "...                 ...          ...\n",
              "2021-05-07  3902.647705  2932.662084\n",
              "2021-05-08  3928.844727  3482.491173\n",
              "2021-05-09  3952.293945  3775.032015\n",
              "2021-05-10  4168.701172  3497.972379\n",
              "2021-05-11  3785.848633  4030.669415\n",
              "\n",
              "[377 rows x 2 columns]"
            ]
          },
          "metadata": {
            "tags": []
          },
          "execution_count": 23
        }
      ]
    },
    {
      "cell_type": "markdown",
      "metadata": {
        "id": "Cl_rsDhOOtbw"
      },
      "source": [
        "#Trading strategy"
      ]
    },
    {
      "cell_type": "markdown",
      "metadata": {
        "id": "pCF0Z1nGPL6d"
      },
      "source": [
        "Simple trading strategy to test the LSTM <br>\n",
        "- If tomorrow's predicted price is superior to to todays close value:\n",
        "  - Buy the asset with 100% of equity.<br>\n",
        "  - If there is no equity left: hold. \n",
        "<br>\n",
        "- If tomorrow's predicted price is inferior to todays close value:\n",
        "  - Sell 100% of the shares<br>\n",
        "  - If there are no shares left: wait.\n"
      ]
    },
    {
      "cell_type": "code",
      "metadata": {
        "id": "jpt3h0LEQBBN",
        "colab": {
          "base_uri": "https://localhost:8080/",
          "height": 450
        },
        "outputId": "b07f0ef0-d829-4a5e-caca-7bdd6b268667"
      },
      "source": [
        "money = 100\n",
        "\n",
        "decision = []\n",
        "portfolio = []\n",
        "stock_qtty = 0\n",
        "error_log = []\n",
        "price_df = df\n",
        "for i, row in valid.iterrows():\n",
        "  loc = price_df.index.get_loc(i)\n",
        "  if type(loc) == slice:\n",
        "    loc = loc.start\n",
        "  price_day_before = price_df.iloc[loc-1]['Close']\n",
        "\n",
        "  #buy\n",
        "  if row.Pred > price_day_before:\n",
        "    if money == 0:\n",
        "      decision.append('Hold')\n",
        "      error_log.append('')\n",
        "    else:\n",
        "      decision.append('Buy')\n",
        "      stock_qtty = money / price_day_before\n",
        "      money = 0\n",
        "\n",
        "      if row.Real < price_day_before:\n",
        "        error_log.append('Bad Buy')\n",
        "      else:\n",
        "        error_log.append('')\n",
        "\n",
        "  #sell\n",
        "  if row.Pred < price_day_before:\n",
        "    if money != 0:\n",
        "      decision.append('Hold')\n",
        "      error_log.append('')\n",
        "    else:\n",
        "      decision.append('Sell')\n",
        "      money = stock_qtty * price_day_before\n",
        "      stock_qtty = 0\n",
        "\n",
        "      if row.Real > price_day_before:\n",
        "        error_log.append('Bad Sell')\n",
        "      else:\n",
        "        error_log.append('')\n",
        "\n",
        "  if row.Pred == price_day_before:\n",
        "      decision.append('Hold')\n",
        "\n",
        "\n",
        "  portfolio.append(money)\n",
        "\n",
        "backtest = pd.DataFrame(data={'decision':decision,'portfolio':portfolio,'Prediction':valid.Pred,'close':valid.Real,'Error':error_log})\n",
        "backtest"
      ],
      "execution_count": null,
      "outputs": [
        {
          "output_type": "execute_result",
          "data": {
            "text/html": [
              "<div>\n",
              "<style scoped>\n",
              "    .dataframe tbody tr th:only-of-type {\n",
              "        vertical-align: middle;\n",
              "    }\n",
              "\n",
              "    .dataframe tbody tr th {\n",
              "        vertical-align: top;\n",
              "    }\n",
              "\n",
              "    .dataframe thead th {\n",
              "        text-align: right;\n",
              "    }\n",
              "</style>\n",
              "<table border=\"1\" class=\"dataframe\">\n",
              "  <thead>\n",
              "    <tr style=\"text-align: right;\">\n",
              "      <th></th>\n",
              "      <th>decision</th>\n",
              "      <th>portfolio</th>\n",
              "      <th>Prediction</th>\n",
              "      <th>close</th>\n",
              "      <th>Error</th>\n",
              "    </tr>\n",
              "    <tr>\n",
              "      <th>Date</th>\n",
              "      <th></th>\n",
              "      <th></th>\n",
              "      <th></th>\n",
              "      <th></th>\n",
              "      <th></th>\n",
              "    </tr>\n",
              "  </thead>\n",
              "  <tbody>\n",
              "    <tr>\n",
              "      <th>2020-04-30</th>\n",
              "      <td>Hold</td>\n",
              "      <td>100.000000</td>\n",
              "      <td>164.363462</td>\n",
              "      <td>214.219101</td>\n",
              "      <td></td>\n",
              "    </tr>\n",
              "    <tr>\n",
              "      <th>2020-05-01</th>\n",
              "      <td>Hold</td>\n",
              "      <td>100.000000</td>\n",
              "      <td>178.297548</td>\n",
              "      <td>215.325378</td>\n",
              "      <td></td>\n",
              "    </tr>\n",
              "    <tr>\n",
              "      <th>2020-05-02</th>\n",
              "      <td>Hold</td>\n",
              "      <td>100.000000</td>\n",
              "      <td>204.721948</td>\n",
              "      <td>210.933151</td>\n",
              "      <td></td>\n",
              "    </tr>\n",
              "    <tr>\n",
              "      <th>2020-05-03</th>\n",
              "      <td>Hold</td>\n",
              "      <td>100.000000</td>\n",
              "      <td>174.834564</td>\n",
              "      <td>208.174011</td>\n",
              "      <td></td>\n",
              "    </tr>\n",
              "    <tr>\n",
              "      <th>2020-05-04</th>\n",
              "      <td>Hold</td>\n",
              "      <td>100.000000</td>\n",
              "      <td>198.852912</td>\n",
              "      <td>206.774399</td>\n",
              "      <td></td>\n",
              "    </tr>\n",
              "    <tr>\n",
              "      <th>...</th>\n",
              "      <td>...</td>\n",
              "      <td>...</td>\n",
              "      <td>...</td>\n",
              "      <td>...</td>\n",
              "      <td>...</td>\n",
              "    </tr>\n",
              "    <tr>\n",
              "      <th>2021-05-07</th>\n",
              "      <td>Hold</td>\n",
              "      <td>156.822874</td>\n",
              "      <td>2932.662084</td>\n",
              "      <td>3902.647705</td>\n",
              "      <td></td>\n",
              "    </tr>\n",
              "    <tr>\n",
              "      <th>2021-05-08</th>\n",
              "      <td>Hold</td>\n",
              "      <td>156.822874</td>\n",
              "      <td>3482.491173</td>\n",
              "      <td>3928.844727</td>\n",
              "      <td></td>\n",
              "    </tr>\n",
              "    <tr>\n",
              "      <th>2021-05-09</th>\n",
              "      <td>Hold</td>\n",
              "      <td>156.822874</td>\n",
              "      <td>3775.032015</td>\n",
              "      <td>3952.293945</td>\n",
              "      <td></td>\n",
              "    </tr>\n",
              "    <tr>\n",
              "      <th>2021-05-10</th>\n",
              "      <td>Hold</td>\n",
              "      <td>156.822874</td>\n",
              "      <td>3497.972379</td>\n",
              "      <td>4168.701172</td>\n",
              "      <td></td>\n",
              "    </tr>\n",
              "    <tr>\n",
              "      <th>2021-05-11</th>\n",
              "      <td>Hold</td>\n",
              "      <td>156.822874</td>\n",
              "      <td>4030.669415</td>\n",
              "      <td>3785.848633</td>\n",
              "      <td></td>\n",
              "    </tr>\n",
              "  </tbody>\n",
              "</table>\n",
              "<p>377 rows × 5 columns</p>\n",
              "</div>"
            ],
            "text/plain": [
              "           decision   portfolio   Prediction        close Error\n",
              "Date                                                           \n",
              "2020-04-30     Hold  100.000000   164.363462   214.219101      \n",
              "2020-05-01     Hold  100.000000   178.297548   215.325378      \n",
              "2020-05-02     Hold  100.000000   204.721948   210.933151      \n",
              "2020-05-03     Hold  100.000000   174.834564   208.174011      \n",
              "2020-05-04     Hold  100.000000   198.852912   206.774399      \n",
              "...             ...         ...          ...          ...   ...\n",
              "2021-05-07     Hold  156.822874  2932.662084  3902.647705      \n",
              "2021-05-08     Hold  156.822874  3482.491173  3928.844727      \n",
              "2021-05-09     Hold  156.822874  3775.032015  3952.293945      \n",
              "2021-05-10     Hold  156.822874  3497.972379  4168.701172      \n",
              "2021-05-11     Hold  156.822874  4030.669415  3785.848633      \n",
              "\n",
              "[377 rows x 5 columns]"
            ]
          },
          "metadata": {
            "tags": []
          },
          "execution_count": 28
        }
      ]
    },
    {
      "cell_type": "code",
      "metadata": {
        "colab": {
          "base_uri": "https://localhost:8080/",
          "height": 552
        },
        "id": "eP5H-vh1UfGa",
        "outputId": "f3628109-5cae-40a9-952c-476fcc712c9e"
      },
      "source": [
        "plt.figure(figsize=(16,8))\n",
        "plt.plot(df[df.index<=valid.index.values[0]].index,df[df.index<=valid.index.values[0]].Close,c='b')\n",
        "plt.plot(valid.index,valid.Pred,c='r')\n",
        "plt.plot(valid.index,valid.Real,c='g')\n",
        "plt.xticks(rotation=45)\n",
        "plt.legend(['Historic','Valid','Predictions'],loc='lower right')\n",
        "plt.title(\"Predictions and actual prices\")\n",
        "plt.ylabel(\"Asset price USD\")\n",
        "plt.show()"
      ],
      "execution_count": null,
      "outputs": [
        {
          "output_type": "display_data",
          "data": {
            "image/png": "[encoded data removed]",
            "text/plain": [
              "<Figure size 1152x576 with 1 Axes>"
            ]
          },
          "metadata": {
            "tags": []
          }
        }
      ]
    },
    {
      "cell_type": "markdown",
      "metadata": {
        "id": "GLmNiCvJQqr1"
      },
      "source": [
        "# Portfolio behaviour with trading strategy"
      ]
    },
    {
      "cell_type": "code",
      "metadata": {
        "id": "HD_SNi8pnbOo",
        "colab": {
          "base_uri": "https://localhost:8080/",
          "height": 232
        },
        "outputId": "6dba783f-e127-46c9-cfe2-c0342eb3fece"
      },
      "source": [
        "plt.scatter(x=backtest[backtest['portfolio']!=0].index, y=backtest[backtest['portfolio']!=0]['portfolio'], color= backtest[backtest['portfolio']!=0]['Error'].apply(lambda x: 'r' if x!='' else 'w') )\n",
        "plt.plot(backtest[backtest['portfolio']!=0].index,backtest[backtest['portfolio']!=0]['portfolio'])\n",
        "plt.xticks(rotation=45)\n",
        "plt.ylabel(\"Portfolio value\")\n",
        "plt.show() "
      ],
      "execution_count": 1,
      "outputs": [
        {
          "output_type": "error",
          "ename": "NameError",
          "evalue": "ignored",
          "traceback": [
            "\u001b[0;31m---------------------------------------------------------------------------\u001b[0m",
            "\u001b[0;31mNameError\u001b[0m                                 Traceback (most recent call last)",
            "\u001b[0;32m<ipython-input-1-42f6e2ad67aa>\u001b[0m in \u001b[0;36m<module>\u001b[0;34m()\u001b[0m\n\u001b[0;32m----> 1\u001b[0;31m \u001b[0mplt\u001b[0m\u001b[0;34m.\u001b[0m\u001b[0mscatter\u001b[0m\u001b[0;34m(\u001b[0m\u001b[0mx\u001b[0m\u001b[0;34m=\u001b[0m\u001b[0mbacktest\u001b[0m\u001b[0;34m[\u001b[0m\u001b[0mbacktest\u001b[0m\u001b[0;34m[\u001b[0m\u001b[0;34m'portfolio'\u001b[0m\u001b[0;34m]\u001b[0m\u001b[0;34m!=\u001b[0m\u001b[0;36m0\u001b[0m\u001b[0;34m]\u001b[0m\u001b[0;34m.\u001b[0m\u001b[0mindex\u001b[0m\u001b[0;34m,\u001b[0m \u001b[0my\u001b[0m\u001b[0;34m=\u001b[0m\u001b[0mbacktest\u001b[0m\u001b[0;34m[\u001b[0m\u001b[0mbacktest\u001b[0m\u001b[0;34m[\u001b[0m\u001b[0;34m'portfolio'\u001b[0m\u001b[0;34m]\u001b[0m\u001b[0;34m!=\u001b[0m\u001b[0;36m0\u001b[0m\u001b[0;34m]\u001b[0m\u001b[0;34m[\u001b[0m\u001b[0;34m'portfolio'\u001b[0m\u001b[0;34m]\u001b[0m\u001b[0;34m,\u001b[0m \u001b[0mcolor\u001b[0m\u001b[0;34m=\u001b[0m \u001b[0mbacktest\u001b[0m\u001b[0;34m[\u001b[0m\u001b[0mbacktest\u001b[0m\u001b[0;34m[\u001b[0m\u001b[0;34m'portfolio'\u001b[0m\u001b[0;34m]\u001b[0m\u001b[0;34m!=\u001b[0m\u001b[0;36m0\u001b[0m\u001b[0;34m]\u001b[0m\u001b[0;34m[\u001b[0m\u001b[0;34m'Error'\u001b[0m\u001b[0;34m]\u001b[0m\u001b[0;34m.\u001b[0m\u001b[0mapply\u001b[0m\u001b[0;34m(\u001b[0m\u001b[0;32mlambda\u001b[0m \u001b[0mx\u001b[0m\u001b[0;34m:\u001b[0m \u001b[0;34m'r'\u001b[0m \u001b[0;32mif\u001b[0m \u001b[0mx\u001b[0m\u001b[0;34m!=\u001b[0m\u001b[0;34m''\u001b[0m \u001b[0;32melse\u001b[0m \u001b[0;34m'w'\u001b[0m\u001b[0;34m)\u001b[0m \u001b[0;34m)\u001b[0m\u001b[0;34m\u001b[0m\u001b[0;34m\u001b[0m\u001b[0m\n\u001b[0m\u001b[1;32m      2\u001b[0m \u001b[0mplt\u001b[0m\u001b[0;34m.\u001b[0m\u001b[0mplot\u001b[0m\u001b[0;34m(\u001b[0m\u001b[0mbacktest\u001b[0m\u001b[0;34m[\u001b[0m\u001b[0mbacktest\u001b[0m\u001b[0;34m[\u001b[0m\u001b[0;34m'portfolio'\u001b[0m\u001b[0;34m]\u001b[0m\u001b[0;34m!=\u001b[0m\u001b[0;36m0\u001b[0m\u001b[0;34m]\u001b[0m\u001b[0;34m.\u001b[0m\u001b[0mindex\u001b[0m\u001b[0;34m,\u001b[0m\u001b[0mbacktest\u001b[0m\u001b[0;34m[\u001b[0m\u001b[0mbacktest\u001b[0m\u001b[0;34m[\u001b[0m\u001b[0;34m'portfolio'\u001b[0m\u001b[0;34m]\u001b[0m\u001b[0;34m!=\u001b[0m\u001b[0;36m0\u001b[0m\u001b[0;34m]\u001b[0m\u001b[0;34m[\u001b[0m\u001b[0;34m'portfolio'\u001b[0m\u001b[0;34m]\u001b[0m\u001b[0;34m)\u001b[0m\u001b[0;34m\u001b[0m\u001b[0;34m\u001b[0m\u001b[0m\n\u001b[1;32m      3\u001b[0m \u001b[0mplt\u001b[0m\u001b[0;34m.\u001b[0m\u001b[0mxticks\u001b[0m\u001b[0;34m(\u001b[0m\u001b[0mrotation\u001b[0m\u001b[0;34m=\u001b[0m\u001b[0;36m45\u001b[0m\u001b[0;34m)\u001b[0m\u001b[0;34m\u001b[0m\u001b[0;34m\u001b[0m\u001b[0m\n\u001b[1;32m      4\u001b[0m \u001b[0mplt\u001b[0m\u001b[0;34m.\u001b[0m\u001b[0mylabel\u001b[0m\u001b[0;34m(\u001b[0m\u001b[0;34m\"Portfolio value\"\u001b[0m\u001b[0;34m)\u001b[0m\u001b[0;34m\u001b[0m\u001b[0;34m\u001b[0m\u001b[0m\n\u001b[1;32m      5\u001b[0m \u001b[0mplt\u001b[0m\u001b[0;34m.\u001b[0m\u001b[0mshow\u001b[0m\u001b[0;34m(\u001b[0m\u001b[0;34m)\u001b[0m\u001b[0;34m\u001b[0m\u001b[0;34m\u001b[0m\u001b[0m\n",
            "\u001b[0;31mNameError\u001b[0m: name 'plt' is not defined"
          ]
        }
      ]
    },
    {
      "cell_type": "markdown",
      "metadata": {
        "id": "gmuOYK0KQ6X0"
      },
      "source": [
        "## Statistics"
      ]
    },
    {
      "cell_type": "code",
      "metadata": {
        "id": "wzktJE3fonch",
        "colab": {
          "base_uri": "https://localhost:8080/"
        },
        "outputId": "86696d88-777b-49c3-f9e2-42a40463d1c5"
      },
      "source": [
        "print(f\"{round(len(backtest[backtest['Error']!=''])*100/len(backtest),2)}% times that algorithm made wrong call\")\n",
        "print(f\"Profit: {round((backtest[backtest['portfolio']!=0]['portfolio'][-1] - 100),2)}% in {int((backtest.index.values[-1]-backtest.index.values[0])/np.timedelta64(1,'D'))} days\")\n",
        "\n",
        "backets2 = backtest[backtest['portfolio']!=0].copy()\n",
        "backets2['average_profit'] = (backets2['portfolio']-backets2['portfolio'].shift(1))*100/backets2['portfolio'].shift(1)\n",
        "\n",
        "print(f\"Average profit: {round(backets2['average_profit'].mean(),2)}%\")\n",
        "print(f\"Standard deviation of profit: {round(backets2['average_profit'].std(),2)}\")"
      ],
      "execution_count": null,
      "outputs": [
        {
          "output_type": "stream",
          "text": [
            "19.1% times that algorithm made wrong call\n",
            "Profit: 56.82% in 376 days\n",
            "Average profit: 0.23%\n",
            "Standard deviation of profit: 2.96\n"
          ],
          "name": "stdout"
        }
      ]
    },
    {
      "cell_type": "code",
      "metadata": {
        "id": "BzG5aDSYYBC3"
      },
      "source": [
        ""
      ],
      "execution_count": null,
      "outputs": []
    }
  ]
}
